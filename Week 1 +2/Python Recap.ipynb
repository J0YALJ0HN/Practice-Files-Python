{
 "cells": [
  {
   "cell_type": "code",
   "execution_count": 1,
   "metadata": {},
   "outputs": [
    {
     "name": "stdout",
     "output_type": "stream",
     "text": [
      "x is greater than 5\n"
     ]
    }
   ],
   "source": [
    "# if statement\n",
    "\n",
    "x = 10\n",
    "\n",
    "if x > 5:\n",
    "    print(\"x is greater than 5\")\n",
    "else:\n",
    "    print(\"x is not greater than 5\")"
   ]
  },
  {
   "cell_type": "code",
   "execution_count": 3,
   "metadata": {},
   "outputs": [
    {
     "name": "stdout",
     "output_type": "stream",
     "text": [
      "0 squared is 0\n",
      "1 squared is 1\n",
      "2 squared is 4\n",
      "3 squared is 9\n",
      "4 squared is 16\n",
      "5 squared is 25\n",
      "6 squared is 36\n",
      "7 squared is 49\n",
      "8 squared is 64\n",
      "9 squared is 81\n",
      "10 squared is 100\n"
     ]
    }
   ],
   "source": [
    "# for loops\n",
    "for x in range (0, 11):\n",
    "    print(x, \"squared is\", x * x)"
   ]
  },
  {
   "cell_type": "code",
   "execution_count": 1,
   "metadata": {},
   "outputs": [
    {
     "name": "stdout",
     "output_type": "stream",
     "text": [
      "['this', 'is', 'split', 'and', 'sort']\n",
      "['x', 'y', 'z', 'a', 'b', 'c']\n",
      "['a', 'b', 'c', 'x', 'y', 'z']\n",
      "a b c x y z\n"
     ]
    }
   ],
   "source": [
    "# split and sort\n",
    "split_list = 'this is split and sort'.split()\n",
    "print(split_list)\n",
    "my_list = list('xyzabc')\n",
    "print (my_list)\n",
    "my_list.sort()\n",
    "print(my_list)\n",
    "print(' '.join(my_list))"
   ]
  },
  {
   "cell_type": "code",
   "execution_count": 2,
   "metadata": {},
   "outputs": [
    {
     "name": "stdout",
     "output_type": "stream",
     "text": [
      "('abcd', 987, 2.34, 'John', 90.1)\n",
      "abcd\n",
      "(987, 2.34)\n",
      "(2.34, 'John', 90.1)\n",
      "[124, 'John', 124, 'John']\n"
     ]
    }
   ],
   "source": [
    "# tuples\n",
    "tuple = ('abcd', 987, 2.34, 'John', 90.1)\n",
    "tinytuple = [124, 'John']\n",
    "\n",
    "print(tuple) # prints full tuple\n",
    "print(tuple[0]) # print first element of the tuple\n",
    "print(tuple[1:3]) # print elements starting from 2nd till 3rd\n",
    "print(tuple[2:]) # print element starting from the 3rd element\n",
    "print(tinytuple * 2) # prints tuple twice"
   ]
  }
 ],
 "metadata": {
  "kernelspec": {
   "display_name": "CUSTOM",
   "language": "python",
   "name": "python3"
  },
  "language_info": {
   "codemirror_mode": {
    "name": "ipython",
    "version": 3
   },
   "file_extension": ".py",
   "mimetype": "text/x-python",
   "name": "python",
   "nbconvert_exporter": "python",
   "pygments_lexer": "ipython3",
   "version": "3.8.18"
  }
 },
 "nbformat": 4,
 "nbformat_minor": 2
}
