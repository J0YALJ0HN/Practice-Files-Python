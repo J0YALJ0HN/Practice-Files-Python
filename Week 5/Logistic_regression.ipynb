{
  "cells": [
    {
      "cell_type": "markdown",
      "metadata": {
        "id": "1JFqwgKsGV-Y",
        "tags": []
      },
      "source": [
        "# Setup"
      ]
    },
    {
      "cell_type": "markdown",
      "metadata": {
        "id": "1lb5iqvcGV-Y"
      },
      "source": [
        "This project requires Python 3.7 or above:"
      ]
    },
    {
      "cell_type": "code",
      "execution_count": null,
      "metadata": {
        "id": "g6dnNF5BGV-Y"
      },
      "outputs": [],
      "source": [
        "import sys\n",
        "\n",
        "assert sys.version_info >= (3, 7)"
      ]
    },
    {
      "cell_type": "markdown",
      "metadata": {
        "id": "MKYiI2oDGV-Z"
      },
      "source": [
        "It also requires Scikit-Learn ≥ 1.0.1:"
      ]
    },
    {
      "cell_type": "code",
      "execution_count": null,
      "metadata": {
        "id": "e_RbEmJTGV-Z"
      },
      "outputs": [],
      "source": [
        "from packaging import version\n",
        "import sklearn\n",
        "\n",
        "assert version.parse(sklearn.__version__) >= version.parse(\"1.0.1\")"
      ]
    },
    {
      "cell_type": "markdown",
      "metadata": {
        "id": "R1UYZiClGV-Z"
      },
      "source": [
        "As we did in previous chapters, let's define the default font sizes to make the figures prettier:"
      ]
    },
    {
      "cell_type": "code",
      "execution_count": null,
      "metadata": {
        "id": "nr2duAPpGV-Z"
      },
      "outputs": [],
      "source": [
        "import matplotlib.pyplot as plt\n",
        "\n",
        "plt.rc('font', size=14)\n",
        "plt.rc('axes', labelsize=14, titlesize=14)\n",
        "plt.rc('legend', fontsize=14)\n",
        "plt.rc('xtick', labelsize=10)\n",
        "plt.rc('ytick', labelsize=10)"
      ]
    },
    {
      "cell_type": "markdown",
      "metadata": {
        "id": "QGraGOj2GV-Z"
      },
      "source": [
        "And let's create the `images/training_linear_models` folder (if it doesn't already exist), and define the `save_fig()` function which is used through this notebook to save the figures in high-res for the book:"
      ]
    },
    {
      "cell_type": "code",
      "execution_count": null,
      "metadata": {
        "id": "AVAmr8zvGV-a"
      },
      "outputs": [],
      "source": [
        "from pathlib import Path\n",
        "\n",
        "IMAGES_PATH = Path() / \"images\" / \"training_linear_models\"\n",
        "IMAGES_PATH.mkdir(parents=True, exist_ok=True)\n",
        "\n",
        "def save_fig(fig_id, tight_layout=True, fig_extension=\"png\", resolution=300):\n",
        "    path = IMAGES_PATH / f\"{fig_id}.{fig_extension}\"\n",
        "    if tight_layout:\n",
        "        plt.tight_layout()\n",
        "    plt.savefig(path, format=fig_extension, dpi=resolution)"
      ]
    },
    {
      "cell_type": "code",
      "execution_count": null,
      "metadata": {
        "id": "lVMoozvDRXEh"
      },
      "outputs": [],
      "source": [
        "import numpy as np"
      ]
    },
    {
      "cell_type": "markdown",
      "metadata": {
        "id": "jweIP69LGV-r"
      },
      "source": [
        "# Logistic Regression"
      ]
    },
    {
      "cell_type": "markdown",
      "metadata": {
        "id": "9Xm1WNL1GV-r"
      },
      "source": [
        "## Estimating Probabilities"
      ]
    },
    {
      "cell_type": "markdown",
      "metadata": {
        "id": "jfCue6sKGV-s"
      },
      "source": [
        "## Decision Boundaries"
      ]
    },
    {
      "cell_type": "code",
      "execution_count": null,
      "metadata": {
        "id": "GHJP2HL2GV-s"
      },
      "outputs": [],
      "source": [
        "from sklearn.datasets import load_iris\n",
        "\n",
        "iris = load_iris(as_frame=True)\n",
        "list(iris)"
      ]
    },
    {
      "cell_type": "code",
      "execution_count": null,
      "metadata": {
        "id": "4cCi9vBaGV-s"
      },
      "outputs": [],
      "source": [
        "print(iris.DESCR)  # extra code – it's a bit too long"
      ]
    },
    {
      "cell_type": "code",
      "execution_count": null,
      "metadata": {
        "id": "8_ZxuADbGV-s"
      },
      "outputs": [],
      "source": [
        "iris.data.head(3)"
      ]
    },
    {
      "cell_type": "code",
      "execution_count": null,
      "metadata": {
        "id": "Qpaj01ZQGV-s"
      },
      "outputs": [],
      "source": [
        "iris.target.head(3)  # note that the instances are not shuffled"
      ]
    },
    {
      "cell_type": "code",
      "execution_count": null,
      "metadata": {
        "id": "8IF6Hq_qGV-s"
      },
      "outputs": [],
      "source": [
        "iris.target_names"
      ]
    },
    {
      "cell_type": "code",
      "execution_count": null,
      "metadata": {
        "id": "Al9rYlNAGV-t"
      },
      "outputs": [],
      "source": [
        "from sklearn.linear_model import LogisticRegression\n",
        "from sklearn.model_selection import train_test_split\n",
        "\n",
        "X = iris.data[[\"petal width (cm)\"]].values\n",
        "y = iris.target_names[iris.target] == 'virginica'\n",
        "X_train, X_test, y_train, y_test = train_test_split(X, y, random_state=42)\n",
        "\n",
        "log_reg = LogisticRegression(random_state=42)\n",
        "log_reg.fit(X_train, y_train)"
      ]
    },
    {
      "cell_type": "code",
      "execution_count": null,
      "metadata": {
        "id": "vIa8BPLgGV-t"
      },
      "outputs": [],
      "source": [
        "X_new = np.linspace(0, 3, 1000).reshape(-1, 1)  # reshape to get a column vector\n",
        "y_proba = log_reg.predict_proba(X_new)\n",
        "decision_boundary = X_new[y_proba[:, 1] >= 0.5][0, 0]\n",
        "\n",
        "plt.figure(figsize=(8, 3))  # extra code – not needed, just formatting\n",
        "plt.plot(X_new, y_proba[:, 0], \"b--\", linewidth=2,\n",
        "         label=\"Not Iris virginica proba\")\n",
        "plt.plot(X_new, y_proba[:, 1], \"g-\", linewidth=2, label=\"Iris virginica proba\")\n",
        "plt.plot([decision_boundary, decision_boundary], [0, 1], \"k:\", linewidth=2,\n",
        "         label=\"Decision boundary\")\n",
        "\n",
        "# extra code – this section beautifies and saves Figure 4–23\n",
        "plt.arrow(x=decision_boundary, y=0.08, dx=-0.3, dy=0,\n",
        "          head_width=0.05, head_length=0.1, fc=\"b\", ec=\"b\")\n",
        "plt.arrow(x=decision_boundary, y=0.92, dx=0.3, dy=0,\n",
        "          head_width=0.05, head_length=0.1, fc=\"g\", ec=\"g\")\n",
        "plt.plot(X_train[y_train == 0], y_train[y_train == 0], \"bs\")\n",
        "plt.plot(X_train[y_train == 1], y_train[y_train == 1], \"g^\")\n",
        "plt.xlabel(\"Petal width (cm)\")\n",
        "plt.ylabel(\"Probability\")\n",
        "plt.legend(loc=\"center left\")\n",
        "plt.axis([0, 3, -0.02, 1.02])\n",
        "plt.grid()\n",
        "save_fig(\"logistic_regression_plot\")\n",
        "\n",
        "plt.show()"
      ]
    },
    {
      "cell_type": "code",
      "execution_count": null,
      "metadata": {
        "id": "zlCs52DvGV-t"
      },
      "outputs": [],
      "source": [
        "decision_boundary"
      ]
    },
    {
      "cell_type": "code",
      "execution_count": null,
      "metadata": {
        "id": "mBi9TvI3GV-t"
      },
      "outputs": [],
      "source": [
        "log_reg.predict([[1.7], [1.5]])"
      ]
    },
    {
      "cell_type": "code",
      "execution_count": null,
      "metadata": {
        "id": "eUgTA-wvGV-t"
      },
      "outputs": [],
      "source": [
        "# extra code – this cell generates and saves Figure 4–24\n",
        "\n",
        "X = iris.data[[\"petal length (cm)\", \"petal width (cm)\"]].values\n",
        "y = iris.target_names[iris.target] == 'virginica'\n",
        "X_train, X_test, y_train, y_test = train_test_split(X, y, random_state=42)\n",
        "\n",
        "log_reg = LogisticRegression(C=2, random_state=42)\n",
        "log_reg.fit(X_train, y_train)\n",
        "\n",
        "# for the contour plot\n",
        "x0, x1 = np.meshgrid(np.linspace(2.9, 7, 500).reshape(-1, 1),\n",
        "                     np.linspace(0.8, 2.7, 200).reshape(-1, 1))\n",
        "X_new = np.c_[x0.ravel(), x1.ravel()]  # one instance per point on the figure\n",
        "y_proba = log_reg.predict_proba(X_new)\n",
        "zz = y_proba[:, 1].reshape(x0.shape)\n",
        "\n",
        "# for the decision boundary\n",
        "left_right = np.array([2.9, 7])\n",
        "boundary = -((log_reg.coef_[0, 0] * left_right + log_reg.intercept_[0])\n",
        "             / log_reg.coef_[0, 1])\n",
        "\n",
        "plt.figure(figsize=(10, 4))\n",
        "plt.plot(X_train[y_train == 0, 0], X_train[y_train == 0, 1], \"bs\")\n",
        "plt.plot(X_train[y_train == 1, 0], X_train[y_train == 1, 1], \"g^\")\n",
        "contour = plt.contour(x0, x1, zz, cmap=plt.cm.brg)\n",
        "plt.clabel(contour, inline=1)\n",
        "plt.plot(left_right, boundary, \"k--\", linewidth=3)\n",
        "plt.text(3.5, 1.27, \"Not Iris virginica\", color=\"b\", ha=\"center\")\n",
        "plt.text(6.5, 2.3, \"Iris virginica\", color=\"g\", ha=\"center\")\n",
        "plt.xlabel(\"Petal length\")\n",
        "plt.ylabel(\"Petal width\")\n",
        "plt.axis([2.9, 7, 0.8, 2.7])\n",
        "plt.grid()\n",
        "save_fig(\"logistic_regression_contour_plot\")\n",
        "plt.show()"
      ]
    },
    {
      "cell_type": "markdown",
      "metadata": {
        "id": "LkZ8sr4TGV-t"
      },
      "source": [
        "## Softmax Regression"
      ]
    },
    {
      "cell_type": "code",
      "execution_count": null,
      "metadata": {
        "id": "Nbk7OehnGV-t"
      },
      "outputs": [],
      "source": [
        "X = iris.data[[\"petal length (cm)\", \"petal width (cm)\"]].values\n",
        "y = iris[\"target\"]\n",
        "X_train, X_test, y_train, y_test = train_test_split(X, y, random_state=42)\n",
        "\n",
        "softmax_reg = LogisticRegression(C=30, random_state=42)\n",
        "softmax_reg.fit(X_train, y_train)"
      ]
    },
    {
      "cell_type": "code",
      "execution_count": null,
      "metadata": {
        "id": "I_8V2xtbGV-u",
        "tags": []
      },
      "outputs": [],
      "source": [
        "softmax_reg.predict([[5, 2]])"
      ]
    },
    {
      "cell_type": "code",
      "execution_count": null,
      "metadata": {
        "id": "taS4G7lxGV-u",
        "tags": []
      },
      "outputs": [],
      "source": [
        "softmax_reg.predict_proba([[5, 2]]).round(2)"
      ]
    },
    {
      "cell_type": "code",
      "execution_count": null,
      "metadata": {
        "id": "MUKij_GUGV-u"
      },
      "outputs": [],
      "source": [
        "# extra code – this cell generates and saves Figure 4–25\n",
        "\n",
        "from matplotlib.colors import ListedColormap\n",
        "\n",
        "custom_cmap = ListedColormap([\"#fafab0\", \"#9898ff\", \"#a0faa0\"])\n",
        "\n",
        "x0, x1 = np.meshgrid(np.linspace(0, 8, 500).reshape(-1, 1),\n",
        "                     np.linspace(0, 3.5, 200).reshape(-1, 1))\n",
        "X_new = np.c_[x0.ravel(), x1.ravel()]\n",
        "\n",
        "y_proba = softmax_reg.predict_proba(X_new)\n",
        "y_predict = softmax_reg.predict(X_new)\n",
        "\n",
        "zz1 = y_proba[:, 1].reshape(x0.shape)\n",
        "zz = y_predict.reshape(x0.shape)\n",
        "\n",
        "plt.figure(figsize=(10, 4))\n",
        "plt.plot(X[y == 2, 0], X[y == 2, 1], \"g^\", label=\"Iris virginica\")\n",
        "plt.plot(X[y == 1, 0], X[y == 1, 1], \"bs\", label=\"Iris versicolor\")\n",
        "plt.plot(X[y == 0, 0], X[y == 0, 1], \"yo\", label=\"Iris setosa\")\n",
        "\n",
        "plt.contourf(x0, x1, zz, cmap=custom_cmap)\n",
        "contour = plt.contour(x0, x1, zz1, cmap=\"hot\")\n",
        "plt.clabel(contour, inline=1)\n",
        "plt.xlabel(\"Petal length\")\n",
        "plt.ylabel(\"Petal width\")\n",
        "plt.legend(loc=\"center left\")\n",
        "plt.axis([0.5, 7, 0, 3.5])\n",
        "plt.grid()\n",
        "save_fig(\"softmax_regression_contour_plot\")\n",
        "plt.show()"
      ]
    }
  ],
  "metadata": {
    "colab": {
      "provenance": []
    },
    "kernelspec": {
      "display_name": "Python 3",
      "language": "python",
      "name": "python3"
    },
    "language_info": {
      "codemirror_mode": {
        "name": "ipython",
        "version": 3
      },
      "file_extension": ".py",
      "mimetype": "text/x-python",
      "name": "python",
      "nbconvert_exporter": "python",
      "pygments_lexer": "ipython3",
      "version": "3.10.6"
    },
    "nav_menu": {},
    "toc": {
      "navigate_menu": true,
      "number_sections": true,
      "sideBar": true,
      "threshold": 6,
      "toc_cell": false,
      "toc_section_display": "block",
      "toc_window_display": false
    }
  },
  "nbformat": 4,
  "nbformat_minor": 0
}
